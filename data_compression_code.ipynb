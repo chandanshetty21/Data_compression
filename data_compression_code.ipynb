{
 "cells": [
  {
   "cell_type": "code",
   "execution_count": 6,
   "id": "d135b2a2",
   "metadata": {},
   "outputs": [
    {
     "name": "stdout",
     "output_type": "stream",
     "text": [
      "Engine Speed: 1101\n",
      "Throttle Position: 11100\n",
      "Vehicle Speed: 101\n",
      "Oxygen Sensor: 101110101001\n",
      "Temperature Sensors: 101\n"
     ]
    }
   ],
   "source": [
    "    from fractions import Fraction\n",
    "\n",
    "    def compress_arithmetic(sensor_data):\n",
    "        compressed_data = {}\n",
    "        for sensor, data in sensor_data.items():\n",
    "            # Convert the data to a string\n",
    "            data_string = str(data)\n",
    "\n",
    "            # Calculate the cumulative probabilities of each symbol\n",
    "            symbol_counts = {}\n",
    "            for symbol in data_string:\n",
    "                symbol_counts[symbol] = symbol_counts.get(symbol, 0) + 1\n",
    "            total_symbols = len(data_string)\n",
    "            cumulative_probabilities = {}\n",
    "            current_sum = 0\n",
    "            for symbol, count in symbol_counts.items():\n",
    "                symbol_prob = Fraction(count, total_symbols)\n",
    "                cumulative_probabilities[symbol] = (current_sum, current_sum + symbol_prob)\n",
    "                current_sum += symbol_prob\n",
    "\n",
    "            # Perform arithmetic coding\n",
    "            low = 0\n",
    "            high = 1\n",
    "            encoded_data = []\n",
    "            for symbol in data_string:\n",
    "                symbol_low, symbol_high = cumulative_probabilities[symbol]\n",
    "                range_size = high - low\n",
    "                high = low + range_size * symbol_high\n",
    "                low = low + range_size * symbol_low\n",
    "\n",
    "                # Rescaling to prevent precision issues\n",
    "                while (high < Fraction(1, 2)) or (low > Fraction(1, 2)):\n",
    "                    if high <=Fraction(1, 2):\n",
    "                        encoded_data.append(1)\n",
    "                        high = 2 * high\n",
    "                        low = 2 * low\n",
    "                    else:\n",
    "                        encoded_data.append(0)\n",
    "                        high = 2 * (high - Fraction(1, 2))\n",
    "                        low = 2 * (low - Fraction(1, 2))\n",
    "\n",
    "            # Output the compressed data\n",
    "            compressed_data[sensor] = encoded_data\n",
    "\n",
    "        return compressed_data\n",
    "\n",
    "\n",
    "    # Example usage:\n",
    "    sensor_data = {\n",
    "        \"Engine Speed\": 1330,\n",
    "        \"Throttle Position\": 1234,\n",
    "        \"Vehicle Speed\": 1610,\n",
    "        \"Oxygen Sensor\": 101.1715,\n",
    "        \"Temperature Sensors\": 1810,\n",
    "        \n",
    "    }\n",
    "\n",
    "    compressed_data = compress_arithmetic(sensor_data)\n",
    "    for sensor, data in compressed_data.items():\n",
    "        print(sensor + \": \" + \"\".join(str(bit) for bit in data))\n"
   ]
  }
 ],
 "metadata": {
  "kernelspec": {
   "display_name": "Python 3 (ipykernel)",
   "language": "python",
   "name": "python3"
  },
  "language_info": {
   "codemirror_mode": {
    "name": "ipython",
    "version": 3
   },
   "file_extension": ".py",
   "mimetype": "text/x-python",
   "name": "python",
   "nbconvert_exporter": "python",
   "pygments_lexer": "ipython3",
   "version": "3.10.9"
  }
 },
 "nbformat": 4,
 "nbformat_minor": 5
}
